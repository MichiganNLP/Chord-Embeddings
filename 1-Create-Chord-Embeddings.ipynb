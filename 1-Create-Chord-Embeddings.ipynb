{
 "metadata": {
  "language_info": {
   "codemirror_mode": {
    "name": "ipython",
    "version": 3
   },
   "file_extension": ".py",
   "mimetype": "text/x-python",
   "name": "python",
   "nbconvert_exporter": "python",
   "pygments_lexer": "ipython3",
   "version": "3.8.5-final"
  },
  "orig_nbformat": 2,
  "kernelspec": {
   "name": "python3",
   "display_name": "Python 3",
   "language": "python"
  }
 },
 "nbformat": 4,
 "nbformat_minor": 2,
 "cells": [
  {
   "cell_type": "code",
   "execution_count": 1,
   "metadata": {},
   "outputs": [],
   "source": [
    "import os\n",
    "import time, datetime\n",
    "import termcolor\n",
    "\n",
    "def print_cyan(msg):\n",
    "    print(termcolor.colored(msg, 'cyan'))\n",
    "\n",
    "    \n",
    "os.chdir('Generate/')"
   ]
  },
  {
   "cell_type": "code",
   "execution_count": 2,
   "metadata": {
    "tags": []
   },
   "outputs": [
    {
     "output_type": "stream",
     "name": "stdout",
     "text": [
      "\u001b[36m2021-02-11 21:01:41: Creating CBOW chord embeddings...\u001b[0m\n",
      "Vocab length: 237\n",
      "Loading chord progressions...\n",
      "100%|██████████████████████████████████| 87481/87481 [00:01<00:00, 45773.16it/s]\n",
      "Creating chord embeddings...\n",
      "Training model...\n",
      "2021-02-11 21:01:44: Beginning Epoch #1...\n",
      "2021-02-11 21:01:46: Epoch #1 completed in 1.8 seconds.\n",
      "2021-02-11 21:01:46: Beginning Epoch #2...\n",
      "2021-02-11 21:01:48: Epoch #2 completed in 1.7 seconds.\n",
      "2021-02-11 21:01:48: Beginning Epoch #3...\n",
      "2021-02-11 21:01:49: Epoch #3 completed in 1.9 seconds.\n",
      "2021-02-11 21:01:49: Beginning Epoch #4...\n",
      "2021-02-11 21:01:51: Epoch #4 completed in 1.8 seconds.\n",
      "2021-02-11 21:01:51: Beginning Epoch #5...\n",
      "2021-02-11 21:01:53: Epoch #5 completed in 1.7 seconds.\n",
      "Done training model.\n",
      "Saving model to CBOWembeddings.bin\n",
      "Execution complete.\n",
      "\u001b[36m2021-02-11 21:01:53: Completed in 12.2 seconds.\u001b[0m\n"
     ]
    }
   ],
   "source": [
    "st = time.time()\n",
    "timestamp_st = datetime.datetime.fromtimestamp(st).strftime('%Y-%m-%d %H:%M:%S')\n",
    "\n",
    "\n",
    "print_cyan(\"{}: Creating CBOW chord embeddings...\".format(timestamp_st))\n",
    "\n",
    "!python chord2vec.py -cw 5 -dim 200 -m cbow -v -o CBOWembeddings.bin\n",
    "\n",
    "et = time.time()\n",
    "timestamp_et = datetime.datetime.fromtimestamp(et).strftime('%Y-%m-%d %H:%M:%S')\n",
    "dur = et - st\n",
    "print_cyan(\"{}: Completed in {:.1f} seconds.\".format(timestamp_et, dur))"
   ]
  },
  {
   "cell_type": "code",
   "execution_count": 3,
   "metadata": {},
   "outputs": [
    {
     "output_type": "stream",
     "name": "stdout",
     "text": [
      "\u001b[36m2021-02-11 21:01:53: Creating SG chord embeddings...\u001b[0m\n",
      "Vocab length: 237\n",
      "Loading chord progressions...\n",
      "100%|██████████████████████████████████| 87481/87481 [00:01<00:00, 45888.59it/s]\n",
      "Creating chord embeddings...\n",
      "Training model...\n",
      "2021-02-11 21:01:56: Beginning Epoch #1...\n",
      "2021-02-11 21:02:01: Epoch #1 completed in 4.5 seconds.\n",
      "2021-02-11 21:02:01: Beginning Epoch #2...\n",
      "2021-02-11 21:02:05: Epoch #2 completed in 4.5 seconds.\n",
      "2021-02-11 21:02:05: Beginning Epoch #3...\n",
      "2021-02-11 21:02:10: Epoch #3 completed in 4.5 seconds.\n",
      "2021-02-11 21:02:10: Beginning Epoch #4...\n",
      "2021-02-11 21:02:15: Epoch #4 completed in 4.6 seconds.\n",
      "2021-02-11 21:02:15: Beginning Epoch #5...\n",
      "2021-02-11 21:02:19: Epoch #5 completed in 4.6 seconds.\n",
      "Done training model.\n",
      "Saving model to SGLMembeddings.bin\n",
      "Execution complete.\n",
      "\u001b[36m2021-02-11 21:02:19: Completed in 26.1 seconds.\u001b[0m\n"
     ]
    }
   ],
   "source": [
    "st = time.time()\n",
    "timestamp_st = datetime.datetime.fromtimestamp(st).strftime('%Y-%m-%d %H:%M:%S')\n",
    "\n",
    "\n",
    "print_cyan(\"{}: Creating SG chord embeddings...\".format(timestamp_st))\n",
    "\n",
    "!python chord2vec.py -cw 5 -dim 200 -m sg -v -o SGLMembeddings.bin\n",
    "\n",
    "et = time.time()\n",
    "timestamp_et = datetime.datetime.fromtimestamp(et).strftime('%Y-%m-%d %H:%M:%S')\n",
    "dur = et - st\n",
    "print_cyan(\"{}: Completed in {:.1f} seconds.\".format(timestamp_et, dur))"
   ]
  }
 ]
}